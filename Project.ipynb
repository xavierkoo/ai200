{
 "cells": [
  {
   "cell_type": "markdown",
   "id": "ff3e7af5",
   "metadata": {},
   "source": [
    "Import Dataset\n",
    "===\n",
    "***\n",
    "Human or Robot Dataset (Facebook Recruitment IV) from Kaggle: <br>\n",
    "https://www.kaggle.com/c/facebook-recruiting-iv-human-or-bot"
   ]
  },
  {
   "cell_type": "code",
   "execution_count": 1,
   "id": "773eecbc",
   "metadata": {},
   "outputs": [],
   "source": [
    "import pandas as pd\n",
    "\n",
    "bids_df = pd.read_csv('data/bids.csv')\n",
    "train_df = pd.read_csv('data/train.csv')\n",
    "test_df = pd.read_csv('data/test.csv')"
   ]
  },
  {
   "cell_type": "markdown",
   "id": "df67265c",
   "metadata": {},
   "source": [
    "## Visualise data from datasets\n",
    "\n",
    "Using <code>.shape</code> and <code>.head</code>"
   ]
  },
  {
   "cell_type": "code",
   "execution_count": 2,
   "id": "4469c383",
   "metadata": {},
   "outputs": [
    {
     "name": "stdout",
     "output_type": "stream",
     "text": [
      "(2013, 4)\n",
      "(4700, 3)\n",
      "(7656334, 9)\n"
     ]
    }
   ],
   "source": [
    "print(train_df.shape)\n",
    "print(test_df.shape)\n",
    "print(bids_df.shape)"
   ]
  },
  {
   "cell_type": "code",
   "execution_count": 3,
   "id": "1485c93b",
   "metadata": {},
   "outputs": [
    {
     "data": {
      "text/html": [
       "<div>\n",
       "<style scoped>\n",
       "    .dataframe tbody tr th:only-of-type {\n",
       "        vertical-align: middle;\n",
       "    }\n",
       "\n",
       "    .dataframe tbody tr th {\n",
       "        vertical-align: top;\n",
       "    }\n",
       "\n",
       "    .dataframe thead th {\n",
       "        text-align: right;\n",
       "    }\n",
       "</style>\n",
       "<table border=\"1\" class=\"dataframe\">\n",
       "  <thead>\n",
       "    <tr style=\"text-align: right;\">\n",
       "      <th></th>\n",
       "      <th>bidder_id</th>\n",
       "      <th>payment_account</th>\n",
       "      <th>address</th>\n",
       "      <th>outcome</th>\n",
       "    </tr>\n",
       "  </thead>\n",
       "  <tbody>\n",
       "    <tr>\n",
       "      <th>0</th>\n",
       "      <td>91a3c57b13234af24875c56fb7e2b2f4rb56a</td>\n",
       "      <td>a3d2de7675556553a5f08e4c88d2c228754av</td>\n",
       "      <td>a3d2de7675556553a5f08e4c88d2c228vt0u4</td>\n",
       "      <td>0.0</td>\n",
       "    </tr>\n",
       "    <tr>\n",
       "      <th>1</th>\n",
       "      <td>624f258b49e77713fc34034560f93fb3hu3jo</td>\n",
       "      <td>a3d2de7675556553a5f08e4c88d2c228v1sga</td>\n",
       "      <td>ae87054e5a97a8f840a3991d12611fdcrfbq3</td>\n",
       "      <td>0.0</td>\n",
       "    </tr>\n",
       "    <tr>\n",
       "      <th>2</th>\n",
       "      <td>1c5f4fc669099bfbfac515cd26997bd12ruaj</td>\n",
       "      <td>a3d2de7675556553a5f08e4c88d2c2280cybl</td>\n",
       "      <td>92520288b50f03907041887884ba49c0cl0pd</td>\n",
       "      <td>0.0</td>\n",
       "    </tr>\n",
       "    <tr>\n",
       "      <th>3</th>\n",
       "      <td>4bee9aba2abda51bf43d639013d6efe12iycd</td>\n",
       "      <td>51d80e233f7b6a7dfdee484a3c120f3b2ita8</td>\n",
       "      <td>4cb9717c8ad7e88a9a284989dd79b98dbevyi</td>\n",
       "      <td>0.0</td>\n",
       "    </tr>\n",
       "    <tr>\n",
       "      <th>4</th>\n",
       "      <td>4ab12bc61c82ddd9c2d65e60555808acqgos1</td>\n",
       "      <td>a3d2de7675556553a5f08e4c88d2c22857ddh</td>\n",
       "      <td>2a96c3ce94b3be921e0296097b88b56a7x1ji</td>\n",
       "      <td>0.0</td>\n",
       "    </tr>\n",
       "  </tbody>\n",
       "</table>\n",
       "</div>"
      ],
      "text/plain": [
       "                               bidder_id  \\\n",
       "0  91a3c57b13234af24875c56fb7e2b2f4rb56a   \n",
       "1  624f258b49e77713fc34034560f93fb3hu3jo   \n",
       "2  1c5f4fc669099bfbfac515cd26997bd12ruaj   \n",
       "3  4bee9aba2abda51bf43d639013d6efe12iycd   \n",
       "4  4ab12bc61c82ddd9c2d65e60555808acqgos1   \n",
       "\n",
       "                         payment_account  \\\n",
       "0  a3d2de7675556553a5f08e4c88d2c228754av   \n",
       "1  a3d2de7675556553a5f08e4c88d2c228v1sga   \n",
       "2  a3d2de7675556553a5f08e4c88d2c2280cybl   \n",
       "3  51d80e233f7b6a7dfdee484a3c120f3b2ita8   \n",
       "4  a3d2de7675556553a5f08e4c88d2c22857ddh   \n",
       "\n",
       "                                 address  outcome  \n",
       "0  a3d2de7675556553a5f08e4c88d2c228vt0u4      0.0  \n",
       "1  ae87054e5a97a8f840a3991d12611fdcrfbq3      0.0  \n",
       "2  92520288b50f03907041887884ba49c0cl0pd      0.0  \n",
       "3  4cb9717c8ad7e88a9a284989dd79b98dbevyi      0.0  \n",
       "4  2a96c3ce94b3be921e0296097b88b56a7x1ji      0.0  "
      ]
     },
     "execution_count": 3,
     "metadata": {},
     "output_type": "execute_result"
    }
   ],
   "source": [
    "train_df.head()"
   ]
  },
  {
   "cell_type": "code",
   "execution_count": 4,
   "id": "c8e3a5fc",
   "metadata": {},
   "outputs": [
    {
     "data": {
      "text/html": [
       "<div>\n",
       "<style scoped>\n",
       "    .dataframe tbody tr th:only-of-type {\n",
       "        vertical-align: middle;\n",
       "    }\n",
       "\n",
       "    .dataframe tbody tr th {\n",
       "        vertical-align: top;\n",
       "    }\n",
       "\n",
       "    .dataframe thead th {\n",
       "        text-align: right;\n",
       "    }\n",
       "</style>\n",
       "<table border=\"1\" class=\"dataframe\">\n",
       "  <thead>\n",
       "    <tr style=\"text-align: right;\">\n",
       "      <th></th>\n",
       "      <th>bidder_id</th>\n",
       "      <th>payment_account</th>\n",
       "      <th>address</th>\n",
       "    </tr>\n",
       "  </thead>\n",
       "  <tbody>\n",
       "    <tr>\n",
       "      <th>0</th>\n",
       "      <td>49bb5a3c944b8fc337981cc7a9ccae41u31d7</td>\n",
       "      <td>a3d2de7675556553a5f08e4c88d2c228htx90</td>\n",
       "      <td>5d9fa1b71f992e7c7a106ce4b07a0a754le7c</td>\n",
       "    </tr>\n",
       "    <tr>\n",
       "      <th>1</th>\n",
       "      <td>a921612b85a1494456e74c09393ccb65ylp4y</td>\n",
       "      <td>a3d2de7675556553a5f08e4c88d2c228rs17i</td>\n",
       "      <td>a3d2de7675556553a5f08e4c88d2c228klidn</td>\n",
       "    </tr>\n",
       "    <tr>\n",
       "      <th>2</th>\n",
       "      <td>6b601e72a4d264dab9ace9d7b229b47479v6i</td>\n",
       "      <td>925381cce086b8cc9594eee1c77edf665zjpl</td>\n",
       "      <td>a3d2de7675556553a5f08e4c88d2c228aght0</td>\n",
       "    </tr>\n",
       "    <tr>\n",
       "      <th>3</th>\n",
       "      <td>eaf0ed0afc9689779417274b4791726cn5udi</td>\n",
       "      <td>a3d2de7675556553a5f08e4c88d2c228nclv5</td>\n",
       "      <td>b5714de1fd69d4a0d2e39d59e53fe9e15vwat</td>\n",
       "    </tr>\n",
       "    <tr>\n",
       "      <th>4</th>\n",
       "      <td>cdecd8d02ed8c6037e38042c7745f688mx5sf</td>\n",
       "      <td>a3d2de7675556553a5f08e4c88d2c228dtdkd</td>\n",
       "      <td>c3b363a3c3b838d58c85acf0fc9964cb4pnfa</td>\n",
       "    </tr>\n",
       "  </tbody>\n",
       "</table>\n",
       "</div>"
      ],
      "text/plain": [
       "                               bidder_id  \\\n",
       "0  49bb5a3c944b8fc337981cc7a9ccae41u31d7   \n",
       "1  a921612b85a1494456e74c09393ccb65ylp4y   \n",
       "2  6b601e72a4d264dab9ace9d7b229b47479v6i   \n",
       "3  eaf0ed0afc9689779417274b4791726cn5udi   \n",
       "4  cdecd8d02ed8c6037e38042c7745f688mx5sf   \n",
       "\n",
       "                         payment_account  \\\n",
       "0  a3d2de7675556553a5f08e4c88d2c228htx90   \n",
       "1  a3d2de7675556553a5f08e4c88d2c228rs17i   \n",
       "2  925381cce086b8cc9594eee1c77edf665zjpl   \n",
       "3  a3d2de7675556553a5f08e4c88d2c228nclv5   \n",
       "4  a3d2de7675556553a5f08e4c88d2c228dtdkd   \n",
       "\n",
       "                                 address  \n",
       "0  5d9fa1b71f992e7c7a106ce4b07a0a754le7c  \n",
       "1  a3d2de7675556553a5f08e4c88d2c228klidn  \n",
       "2  a3d2de7675556553a5f08e4c88d2c228aght0  \n",
       "3  b5714de1fd69d4a0d2e39d59e53fe9e15vwat  \n",
       "4  c3b363a3c3b838d58c85acf0fc9964cb4pnfa  "
      ]
     },
     "execution_count": 4,
     "metadata": {},
     "output_type": "execute_result"
    }
   ],
   "source": [
    "test_df.head()"
   ]
  },
  {
   "cell_type": "code",
   "execution_count": 5,
   "id": "1b7c78bb",
   "metadata": {
    "scrolled": false
   },
   "outputs": [
    {
     "data": {
      "text/html": [
       "<div>\n",
       "<style scoped>\n",
       "    .dataframe tbody tr th:only-of-type {\n",
       "        vertical-align: middle;\n",
       "    }\n",
       "\n",
       "    .dataframe tbody tr th {\n",
       "        vertical-align: top;\n",
       "    }\n",
       "\n",
       "    .dataframe thead th {\n",
       "        text-align: right;\n",
       "    }\n",
       "</style>\n",
       "<table border=\"1\" class=\"dataframe\">\n",
       "  <thead>\n",
       "    <tr style=\"text-align: right;\">\n",
       "      <th></th>\n",
       "      <th>bid_id</th>\n",
       "      <th>bidder_id</th>\n",
       "      <th>auction</th>\n",
       "      <th>merchandise</th>\n",
       "      <th>device</th>\n",
       "      <th>time</th>\n",
       "      <th>country</th>\n",
       "      <th>ip</th>\n",
       "      <th>url</th>\n",
       "    </tr>\n",
       "  </thead>\n",
       "  <tbody>\n",
       "    <tr>\n",
       "      <th>0</th>\n",
       "      <td>0</td>\n",
       "      <td>8dac2b259fd1c6d1120e519fb1ac14fbqvax8</td>\n",
       "      <td>ewmzr</td>\n",
       "      <td>jewelry</td>\n",
       "      <td>phone0</td>\n",
       "      <td>9759243157894736</td>\n",
       "      <td>us</td>\n",
       "      <td>69.166.231.58</td>\n",
       "      <td>vasstdc27m7nks3</td>\n",
       "    </tr>\n",
       "    <tr>\n",
       "      <th>1</th>\n",
       "      <td>1</td>\n",
       "      <td>668d393e858e8126275433046bbd35c6tywop</td>\n",
       "      <td>aeqok</td>\n",
       "      <td>furniture</td>\n",
       "      <td>phone1</td>\n",
       "      <td>9759243157894736</td>\n",
       "      <td>in</td>\n",
       "      <td>50.201.125.84</td>\n",
       "      <td>jmqlhflrzwuay9c</td>\n",
       "    </tr>\n",
       "    <tr>\n",
       "      <th>2</th>\n",
       "      <td>2</td>\n",
       "      <td>aa5f360084278b35d746fa6af3a7a1a5ra3xe</td>\n",
       "      <td>wa00e</td>\n",
       "      <td>home goods</td>\n",
       "      <td>phone2</td>\n",
       "      <td>9759243157894736</td>\n",
       "      <td>py</td>\n",
       "      <td>112.54.208.157</td>\n",
       "      <td>vasstdc27m7nks3</td>\n",
       "    </tr>\n",
       "    <tr>\n",
       "      <th>3</th>\n",
       "      <td>3</td>\n",
       "      <td>3939ac3ef7d472a59a9c5f893dd3e39fh9ofi</td>\n",
       "      <td>jefix</td>\n",
       "      <td>jewelry</td>\n",
       "      <td>phone4</td>\n",
       "      <td>9759243157894736</td>\n",
       "      <td>in</td>\n",
       "      <td>18.99.175.133</td>\n",
       "      <td>vasstdc27m7nks3</td>\n",
       "    </tr>\n",
       "    <tr>\n",
       "      <th>4</th>\n",
       "      <td>4</td>\n",
       "      <td>8393c48eaf4b8fa96886edc7cf27b372dsibi</td>\n",
       "      <td>jefix</td>\n",
       "      <td>jewelry</td>\n",
       "      <td>phone5</td>\n",
       "      <td>9759243157894736</td>\n",
       "      <td>in</td>\n",
       "      <td>145.138.5.37</td>\n",
       "      <td>vasstdc27m7nks3</td>\n",
       "    </tr>\n",
       "  </tbody>\n",
       "</table>\n",
       "</div>"
      ],
      "text/plain": [
       "   bid_id                              bidder_id auction merchandise  device  \\\n",
       "0       0  8dac2b259fd1c6d1120e519fb1ac14fbqvax8   ewmzr     jewelry  phone0   \n",
       "1       1  668d393e858e8126275433046bbd35c6tywop   aeqok   furniture  phone1   \n",
       "2       2  aa5f360084278b35d746fa6af3a7a1a5ra3xe   wa00e  home goods  phone2   \n",
       "3       3  3939ac3ef7d472a59a9c5f893dd3e39fh9ofi   jefix     jewelry  phone4   \n",
       "4       4  8393c48eaf4b8fa96886edc7cf27b372dsibi   jefix     jewelry  phone5   \n",
       "\n",
       "               time country              ip              url  \n",
       "0  9759243157894736      us   69.166.231.58  vasstdc27m7nks3  \n",
       "1  9759243157894736      in   50.201.125.84  jmqlhflrzwuay9c  \n",
       "2  9759243157894736      py  112.54.208.157  vasstdc27m7nks3  \n",
       "3  9759243157894736      in   18.99.175.133  vasstdc27m7nks3  \n",
       "4  9759243157894736      in    145.138.5.37  vasstdc27m7nks3  "
      ]
     },
     "execution_count": 5,
     "metadata": {},
     "output_type": "execute_result"
    }
   ],
   "source": [
    "bids_df.head()"
   ]
  },
  {
   "cell_type": "markdown",
   "id": "b6a089d5",
   "metadata": {},
   "source": [
    "2.Feature Engineering\n",
    "===\n",
    "***"
   ]
  },
  {
   "cell_type": "code",
   "execution_count": 6,
   "id": "cb86d35a",
   "metadata": {},
   "outputs": [
    {
     "data": {
      "text/html": [
       "<div>\n",
       "<style scoped>\n",
       "    .dataframe tbody tr th:only-of-type {\n",
       "        vertical-align: middle;\n",
       "    }\n",
       "\n",
       "    .dataframe tbody tr th {\n",
       "        vertical-align: top;\n",
       "    }\n",
       "\n",
       "    .dataframe thead th {\n",
       "        text-align: right;\n",
       "    }\n",
       "</style>\n",
       "<table border=\"1\" class=\"dataframe\">\n",
       "  <thead>\n",
       "    <tr style=\"text-align: right;\">\n",
       "      <th></th>\n",
       "      <th>bidder_id</th>\n",
       "      <th>num_bids</th>\n",
       "      <th>log_num_bids</th>\n",
       "    </tr>\n",
       "  </thead>\n",
       "  <tbody>\n",
       "    <tr>\n",
       "      <th>0</th>\n",
       "      <td>001068c415025a009fee375a12cff4fcnht8y</td>\n",
       "      <td>1</td>\n",
       "      <td>0.693147</td>\n",
       "    </tr>\n",
       "    <tr>\n",
       "      <th>1</th>\n",
       "      <td>002d229ffb247009810828f648afc2ef593rb</td>\n",
       "      <td>2</td>\n",
       "      <td>1.098612</td>\n",
       "    </tr>\n",
       "    <tr>\n",
       "      <th>2</th>\n",
       "      <td>0030a2dd87ad2733e0873062e4f83954mkj86</td>\n",
       "      <td>1</td>\n",
       "      <td>0.693147</td>\n",
       "    </tr>\n",
       "    <tr>\n",
       "      <th>3</th>\n",
       "      <td>003180b29c6a5f8f1d84a6b7b6f7be57tjj1o</td>\n",
       "      <td>3</td>\n",
       "      <td>1.386294</td>\n",
       "    </tr>\n",
       "    <tr>\n",
       "      <th>4</th>\n",
       "      <td>00486a11dff552c4bd7696265724ff81yeo9v</td>\n",
       "      <td>20</td>\n",
       "      <td>3.044522</td>\n",
       "    </tr>\n",
       "    <tr>\n",
       "      <th>...</th>\n",
       "      <td>...</td>\n",
       "      <td>...</td>\n",
       "      <td>...</td>\n",
       "    </tr>\n",
       "    <tr>\n",
       "      <th>6609</th>\n",
       "      <td>ffbc0fdfbf19a8a9116b68714138f2902cc13</td>\n",
       "      <td>25075</td>\n",
       "      <td>10.129666</td>\n",
       "    </tr>\n",
       "    <tr>\n",
       "      <th>6610</th>\n",
       "      <td>ffc4e2dd2cc08249f299cab46ecbfacfobmr3</td>\n",
       "      <td>22</td>\n",
       "      <td>3.135494</td>\n",
       "    </tr>\n",
       "    <tr>\n",
       "      <th>6611</th>\n",
       "      <td>ffd29eb307a4c54610dd2d3d212bf3bagmmpl</td>\n",
       "      <td>1</td>\n",
       "      <td>0.693147</td>\n",
       "    </tr>\n",
       "    <tr>\n",
       "      <th>6612</th>\n",
       "      <td>ffd62646d600b759a985d45918bd6f0431vmz</td>\n",
       "      <td>664</td>\n",
       "      <td>6.499787</td>\n",
       "    </tr>\n",
       "    <tr>\n",
       "      <th>6613</th>\n",
       "      <td>fff2c070d8200e0a09150bd81452ce29ngcnv</td>\n",
       "      <td>1</td>\n",
       "      <td>0.693147</td>\n",
       "    </tr>\n",
       "  </tbody>\n",
       "</table>\n",
       "<p>6614 rows × 3 columns</p>\n",
       "</div>"
      ],
      "text/plain": [
       "                                  bidder_id  num_bids  log_num_bids\n",
       "0     001068c415025a009fee375a12cff4fcnht8y         1      0.693147\n",
       "1     002d229ffb247009810828f648afc2ef593rb         2      1.098612\n",
       "2     0030a2dd87ad2733e0873062e4f83954mkj86         1      0.693147\n",
       "3     003180b29c6a5f8f1d84a6b7b6f7be57tjj1o         3      1.386294\n",
       "4     00486a11dff552c4bd7696265724ff81yeo9v        20      3.044522\n",
       "...                                     ...       ...           ...\n",
       "6609  ffbc0fdfbf19a8a9116b68714138f2902cc13     25075     10.129666\n",
       "6610  ffc4e2dd2cc08249f299cab46ecbfacfobmr3        22      3.135494\n",
       "6611  ffd29eb307a4c54610dd2d3d212bf3bagmmpl         1      0.693147\n",
       "6612  ffd62646d600b759a985d45918bd6f0431vmz       664      6.499787\n",
       "6613  fff2c070d8200e0a09150bd81452ce29ngcnv         1      0.693147\n",
       "\n",
       "[6614 rows x 3 columns]"
      ]
     },
     "execution_count": 6,
     "metadata": {},
     "output_type": "execute_result"
    }
   ],
   "source": [
    "import numpy as np\n",
    "\n",
    "bidder_counts = bids_df.groupby(\"bidder_id\")['time'].count().reset_index()\n",
    "bidder_counts = bidder_counts.rename(columns={'time':'num_bids'})\n",
    "bidder_counts['log_num_bids'] = (bidder_counts['num_bids']+1).transform(np.log)\n",
    "bidder_counts"
   ]
  },
  {
   "cell_type": "code",
   "execution_count": 7,
   "id": "b8dadff1",
   "metadata": {},
   "outputs": [],
   "source": [
    "from statistics import mean , median \n",
    "from scipy.stats import entropy\n",
    "\n",
    "entropy_ips_per_auc = bids_df.groupby(\"bidder_id\")\n",
    "\n",
    "def ips_entropy_auc(group):\n",
    "\n",
    "    auc_dict = {}\n",
    "    ip_list = []\n",
    "    for row_index, row in group.iterrows():\n",
    "        ip = row['ip']\n",
    "        auction = row['auction']\n",
    "        \n",
    "        if ip not in ip_list:\n",
    "            ip_list.append(ip)\n",
    "        \n",
    "        if auction not in auc_dict:\n",
    "            auc_dict[auction] = [ip]\n",
    "        elif ip not in auc_dict[auction]:\n",
    "            auc_dict[auction] += [ip]\n",
    "    \n",
    "    ip_count_per_auc = []\n",
    "    for ips in auc_dict.values():\n",
    "        ip_count_per_auc.append(len(ips))\n",
    "    \n",
    "    ip_percent_list = []\n",
    "    \n",
    "    for ip_count in ip_count_per_auc:\n",
    "        \n",
    "        percent = ip_count/len(ip_list)   \n",
    "        ip_percent_list.append(percent)\n",
    "    \n",
    "#     print(ip_percent_list)\n",
    "    bid_entropy = entropy(ip_percent_list)\n",
    "\n",
    "    return bid_entropy\n",
    "\n",
    "# def time_diff_func(group):\n",
    "    \n",
    "#     for index in group.time:\n",
    "#     first_time = []\n",
    "#     diffs = []\n",
    "#     for time in group.time:\n",
    "    \n",
    "#         if len(first_time) == 0:\n",
    "#             first_time.append(time)\n",
    "#             print(first_time)\n",
    "#         else:\n",
    "#             diff = time - first_time[0]\n",
    "#             diffs.append(diff)\n",
    "#         first_time.clear()\n",
    "#         first_time.append(time)\n",
    "    \n",
    "#     if len(diffs) == 0:\n",
    "#         return 0\n",
    "#     return median(diffs)\n",
    "\n",
    "ips_entropy_per_auc = entropy_ips_per_auc.apply(ips_entropy_auc)"
   ]
  },
  {
   "cell_type": "code",
   "execution_count": 8,
   "id": "678b2392",
   "metadata": {},
   "outputs": [
    {
     "data": {
      "text/html": [
       "<div>\n",
       "<style scoped>\n",
       "    .dataframe tbody tr th:only-of-type {\n",
       "        vertical-align: middle;\n",
       "    }\n",
       "\n",
       "    .dataframe tbody tr th {\n",
       "        vertical-align: top;\n",
       "    }\n",
       "\n",
       "    .dataframe thead th {\n",
       "        text-align: right;\n",
       "    }\n",
       "</style>\n",
       "<table border=\"1\" class=\"dataframe\">\n",
       "  <thead>\n",
       "    <tr style=\"text-align: right;\">\n",
       "      <th></th>\n",
       "      <th>bidder_id</th>\n",
       "      <th>ips_entropy_per_auc</th>\n",
       "      <th>log_ips_entropy_per_auc</th>\n",
       "    </tr>\n",
       "  </thead>\n",
       "  <tbody>\n",
       "    <tr>\n",
       "      <th>0</th>\n",
       "      <td>001068c415025a009fee375a12cff4fcnht8y</td>\n",
       "      <td>0.000000</td>\n",
       "      <td>0.000000</td>\n",
       "    </tr>\n",
       "    <tr>\n",
       "      <th>1</th>\n",
       "      <td>002d229ffb247009810828f648afc2ef593rb</td>\n",
       "      <td>0.000000</td>\n",
       "      <td>0.000000</td>\n",
       "    </tr>\n",
       "    <tr>\n",
       "      <th>2</th>\n",
       "      <td>0030a2dd87ad2733e0873062e4f83954mkj86</td>\n",
       "      <td>0.000000</td>\n",
       "      <td>0.000000</td>\n",
       "    </tr>\n",
       "    <tr>\n",
       "      <th>3</th>\n",
       "      <td>003180b29c6a5f8f1d84a6b7b6f7be57tjj1o</td>\n",
       "      <td>1.098612</td>\n",
       "      <td>0.741276</td>\n",
       "    </tr>\n",
       "    <tr>\n",
       "      <th>4</th>\n",
       "      <td>00486a11dff552c4bd7696265724ff81yeo9v</td>\n",
       "      <td>2.484367</td>\n",
       "      <td>1.248286</td>\n",
       "    </tr>\n",
       "    <tr>\n",
       "      <th>...</th>\n",
       "      <td>...</td>\n",
       "      <td>...</td>\n",
       "      <td>...</td>\n",
       "    </tr>\n",
       "    <tr>\n",
       "      <th>6609</th>\n",
       "      <td>ffbc0fdfbf19a8a9116b68714138f2902cc13</td>\n",
       "      <td>4.310895</td>\n",
       "      <td>1.669760</td>\n",
       "    </tr>\n",
       "    <tr>\n",
       "      <th>6610</th>\n",
       "      <td>ffc4e2dd2cc08249f299cab46ecbfacfobmr3</td>\n",
       "      <td>2.622996</td>\n",
       "      <td>1.287301</td>\n",
       "    </tr>\n",
       "    <tr>\n",
       "      <th>6611</th>\n",
       "      <td>ffd29eb307a4c54610dd2d3d212bf3bagmmpl</td>\n",
       "      <td>0.000000</td>\n",
       "      <td>0.000000</td>\n",
       "    </tr>\n",
       "    <tr>\n",
       "      <th>6612</th>\n",
       "      <td>ffd62646d600b759a985d45918bd6f0431vmz</td>\n",
       "      <td>3.556497</td>\n",
       "      <td>1.516554</td>\n",
       "    </tr>\n",
       "    <tr>\n",
       "      <th>6613</th>\n",
       "      <td>fff2c070d8200e0a09150bd81452ce29ngcnv</td>\n",
       "      <td>0.000000</td>\n",
       "      <td>0.000000</td>\n",
       "    </tr>\n",
       "  </tbody>\n",
       "</table>\n",
       "<p>6614 rows × 3 columns</p>\n",
       "</div>"
      ],
      "text/plain": [
       "                                  bidder_id  ips_entropy_per_auc  \\\n",
       "0     001068c415025a009fee375a12cff4fcnht8y             0.000000   \n",
       "1     002d229ffb247009810828f648afc2ef593rb             0.000000   \n",
       "2     0030a2dd87ad2733e0873062e4f83954mkj86             0.000000   \n",
       "3     003180b29c6a5f8f1d84a6b7b6f7be57tjj1o             1.098612   \n",
       "4     00486a11dff552c4bd7696265724ff81yeo9v             2.484367   \n",
       "...                                     ...                  ...   \n",
       "6609  ffbc0fdfbf19a8a9116b68714138f2902cc13             4.310895   \n",
       "6610  ffc4e2dd2cc08249f299cab46ecbfacfobmr3             2.622996   \n",
       "6611  ffd29eb307a4c54610dd2d3d212bf3bagmmpl             0.000000   \n",
       "6612  ffd62646d600b759a985d45918bd6f0431vmz             3.556497   \n",
       "6613  fff2c070d8200e0a09150bd81452ce29ngcnv             0.000000   \n",
       "\n",
       "      log_ips_entropy_per_auc  \n",
       "0                    0.000000  \n",
       "1                    0.000000  \n",
       "2                    0.000000  \n",
       "3                    0.741276  \n",
       "4                    1.248286  \n",
       "...                       ...  \n",
       "6609                 1.669760  \n",
       "6610                 1.287301  \n",
       "6611                 0.000000  \n",
       "6612                 1.516554  \n",
       "6613                 0.000000  \n",
       "\n",
       "[6614 rows x 3 columns]"
      ]
     },
     "execution_count": 8,
     "metadata": {},
     "output_type": "execute_result"
    }
   ],
   "source": [
    "ips_entropy_per_auc = pd.DataFrame(ips_entropy_per_auc)\n",
    "ips_entropy_per_auc = ips_entropy_per_auc.rename(columns={0:'ips_entropy_per_auc'})\n",
    "ips_entropy_per_auc = ips_entropy_per_auc.reset_index()\n",
    "ips_entropy_per_auc['log_ips_entropy_per_auc'] = (ips_entropy_per_auc['ips_entropy_per_auc']+1).transform(np.log)\n",
    "ips_entropy_per_auc"
   ]
  },
  {
   "cell_type": "code",
   "execution_count": 9,
   "id": "555c6dc0",
   "metadata": {},
   "outputs": [],
   "source": [
    "from statistics import mean , median \n",
    "from scipy.stats import entropy\n",
    "\n",
    "entropy_auc = bids_df.groupby(\"bidder_id\")\n",
    "\n",
    "def bid_entropy_per_auc(group):\n",
    "\n",
    "    auc_dict = {}\n",
    "    total_bids = 0\n",
    "    for row_index, row in group.iterrows():\n",
    "        total_bids += 1\n",
    "        auction = row['auction']\n",
    "        \n",
    "        if auction not in auc_dict:\n",
    "            auc_dict[auction] = 1\n",
    "        else:\n",
    "            auc_dict[auction] += 1\n",
    "            \n",
    "    auction_percent_list = []\n",
    "    \n",
    "    for auc_bids in auc_dict.values():\n",
    "        \n",
    "        percent = auc_bids/total_bids   \n",
    "        auction_percent_list.append(percent)\n",
    "    \n",
    "#     print(ip_percent_list)\n",
    "    bid_entropy = entropy(auction_percent_list)\n",
    "\n",
    "    return bid_entropy\n",
    "\n",
    "# def time_diff_func(group):\n",
    "    \n",
    "#     for index in group.time:\n",
    "#     first_time = []\n",
    "#     diffs = []\n",
    "#     for time in group.time:\n",
    "    \n",
    "#         if len(first_time) == 0:\n",
    "#             first_time.append(time)\n",
    "#             print(first_time)\n",
    "#         else:\n",
    "#             diff = time - first_time[0]\n",
    "#             diffs.append(diff)\n",
    "#         first_time.clear()\n",
    "#         first_time.append(time)\n",
    "    \n",
    "#     if len(diffs) == 0:\n",
    "#         return 0\n",
    "#     return median(diffs)\n",
    "\n",
    "auc_entropy = entropy_auc.apply(bid_entropy_per_auc)"
   ]
  },
  {
   "cell_type": "code",
   "execution_count": 10,
   "id": "f7c4bd3a",
   "metadata": {},
   "outputs": [],
   "source": [
    "bids_entropy_auc = pd.DataFrame(auc_entropy)\n",
    "bids_entropy_auc = bids_entropy_auc.rename(columns={0:'bids_entropy_auc'})\n",
    "bids_entropy_auc = bids_entropy_auc.reset_index()\n",
    "bids_entropy_auc['log_bids_entropy_auc'] = (bids_entropy_auc['bids_entropy_auc']+1).transform(np.log)\n"
   ]
  },
  {
   "cell_type": "code",
   "execution_count": 11,
   "id": "37ab131f",
   "metadata": {},
   "outputs": [],
   "source": [
    "from statistics import mean , median \n",
    "from scipy.stats import entropy\n",
    "\n",
    "entropy_country = bids_df.groupby(\"bidder_id\")\n",
    "\n",
    "def bid_entropy_per_country(group):\n",
    "\n",
    "    coun_dict = {}\n",
    "    total_bids = 0\n",
    "    for row_index, row in group.iterrows():\n",
    "        total_bids += 1\n",
    "        country = row['country']\n",
    "        \n",
    "        if country not in coun_dict:\n",
    "            coun_dict[country] = 1\n",
    "        else:\n",
    "            coun_dict[country] += 1\n",
    "            \n",
    "    country_percent_list = []\n",
    "    \n",
    "    for url_bids in coun_dict.values():\n",
    "        \n",
    "        percent = url_bids/total_bids   \n",
    "        country_percent_list.append(percent)\n",
    "    \n",
    "#     print(ip_percent_list)\n",
    "    bid_entropy = entropy(country_percent_list)\n",
    "\n",
    "    return bid_entropy\n",
    "\n",
    "# def time_diff_func(group):\n",
    "    \n",
    "#     for index in group.time:\n",
    "#     first_time = []\n",
    "#     diffs = []\n",
    "#     for time in group.time:\n",
    "    \n",
    "#         if len(first_time) == 0:\n",
    "#             first_time.append(time)\n",
    "#             print(first_time)\n",
    "#         else:\n",
    "#             diff = time - first_time[0]\n",
    "#             diffs.append(diff)\n",
    "#         first_time.clear()\n",
    "#         first_time.append(time)\n",
    "    \n",
    "#     if len(diffs) == 0:\n",
    "#         return 0\n",
    "#     return median(diffs)\n",
    "\n",
    "grace = entropy_country.apply(bid_entropy_per_country)"
   ]
  },
  {
   "cell_type": "code",
   "execution_count": 12,
   "id": "57cb3ff5",
   "metadata": {},
   "outputs": [
    {
     "data": {
      "text/html": [
       "<div>\n",
       "<style scoped>\n",
       "    .dataframe tbody tr th:only-of-type {\n",
       "        vertical-align: middle;\n",
       "    }\n",
       "\n",
       "    .dataframe tbody tr th {\n",
       "        vertical-align: top;\n",
       "    }\n",
       "\n",
       "    .dataframe thead th {\n",
       "        text-align: right;\n",
       "    }\n",
       "</style>\n",
       "<table border=\"1\" class=\"dataframe\">\n",
       "  <thead>\n",
       "    <tr style=\"text-align: right;\">\n",
       "      <th></th>\n",
       "      <th>bidder_id</th>\n",
       "      <th>outcome</th>\n",
       "      <th>bids_entropy_country</th>\n",
       "    </tr>\n",
       "  </thead>\n",
       "  <tbody>\n",
       "    <tr>\n",
       "      <th>0</th>\n",
       "      <td>91a3c57b13234af24875c56fb7e2b2f4rb56a</td>\n",
       "      <td>0.0</td>\n",
       "      <td>1.337882</td>\n",
       "    </tr>\n",
       "    <tr>\n",
       "      <th>1</th>\n",
       "      <td>624f258b49e77713fc34034560f93fb3hu3jo</td>\n",
       "      <td>0.0</td>\n",
       "      <td>0.000000</td>\n",
       "    </tr>\n",
       "    <tr>\n",
       "      <th>2</th>\n",
       "      <td>1c5f4fc669099bfbfac515cd26997bd12ruaj</td>\n",
       "      <td>0.0</td>\n",
       "      <td>0.000000</td>\n",
       "    </tr>\n",
       "    <tr>\n",
       "      <th>3</th>\n",
       "      <td>4bee9aba2abda51bf43d639013d6efe12iycd</td>\n",
       "      <td>0.0</td>\n",
       "      <td>0.000000</td>\n",
       "    </tr>\n",
       "    <tr>\n",
       "      <th>4</th>\n",
       "      <td>4ab12bc61c82ddd9c2d65e60555808acqgos1</td>\n",
       "      <td>0.0</td>\n",
       "      <td>0.038969</td>\n",
       "    </tr>\n",
       "    <tr>\n",
       "      <th>...</th>\n",
       "      <td>...</td>\n",
       "      <td>...</td>\n",
       "      <td>...</td>\n",
       "    </tr>\n",
       "    <tr>\n",
       "      <th>2008</th>\n",
       "      <td>369515b3af4f8ca582f90271d30b14b6r52aw</td>\n",
       "      <td>0.0</td>\n",
       "      <td>0.774507</td>\n",
       "    </tr>\n",
       "    <tr>\n",
       "      <th>2009</th>\n",
       "      <td>f939c17ffc7c39ac9b35b69e5e75179fv9pe2</td>\n",
       "      <td>0.0</td>\n",
       "      <td>0.000000</td>\n",
       "    </tr>\n",
       "    <tr>\n",
       "      <th>2010</th>\n",
       "      <td>c806dbb2decba0ed3c4ff5e2e60a74c2wjvbl</td>\n",
       "      <td>0.0</td>\n",
       "      <td>0.000000</td>\n",
       "    </tr>\n",
       "    <tr>\n",
       "      <th>2011</th>\n",
       "      <td>0381a69b7a061e9ace2798fd48f1f537mgq57</td>\n",
       "      <td>0.0</td>\n",
       "      <td>0.000000</td>\n",
       "    </tr>\n",
       "    <tr>\n",
       "      <th>2012</th>\n",
       "      <td>84a769adc98498f52debfe57b93a0789556f4</td>\n",
       "      <td>0.0</td>\n",
       "      <td>0.000000</td>\n",
       "    </tr>\n",
       "  </tbody>\n",
       "</table>\n",
       "<p>2013 rows × 3 columns</p>\n",
       "</div>"
      ],
      "text/plain": [
       "                                  bidder_id  outcome  bids_entropy_country\n",
       "0     91a3c57b13234af24875c56fb7e2b2f4rb56a      0.0              1.337882\n",
       "1     624f258b49e77713fc34034560f93fb3hu3jo      0.0              0.000000\n",
       "2     1c5f4fc669099bfbfac515cd26997bd12ruaj      0.0              0.000000\n",
       "3     4bee9aba2abda51bf43d639013d6efe12iycd      0.0              0.000000\n",
       "4     4ab12bc61c82ddd9c2d65e60555808acqgos1      0.0              0.038969\n",
       "...                                     ...      ...                   ...\n",
       "2008  369515b3af4f8ca582f90271d30b14b6r52aw      0.0              0.774507\n",
       "2009  f939c17ffc7c39ac9b35b69e5e75179fv9pe2      0.0              0.000000\n",
       "2010  c806dbb2decba0ed3c4ff5e2e60a74c2wjvbl      0.0              0.000000\n",
       "2011  0381a69b7a061e9ace2798fd48f1f537mgq57      0.0              0.000000\n",
       "2012  84a769adc98498f52debfe57b93a0789556f4      0.0              0.000000\n",
       "\n",
       "[2013 rows x 3 columns]"
      ]
     },
     "execution_count": 12,
     "metadata": {},
     "output_type": "execute_result"
    }
   ],
   "source": [
    "bids_entropy_coun = pd.DataFrame(grace)\n",
    "bids_entropy_coun = bids_entropy_coun.rename(columns={0:'bids_entropy_country'})\n",
    "bids_entropy_coun = bids_entropy_coun.reset_index()\n",
    "bids_entropy_coun_diff = train_df[['bidder_id','outcome']].merge(bids_entropy_coun,on = 'bidder_id',how='left' )\n",
    "bids_entropy_coun_diff"
   ]
  },
  {
   "cell_type": "code",
   "execution_count": 13,
   "id": "b48b96d2",
   "metadata": {},
   "outputs": [],
   "source": [
    "bids_entropy_coun['log_bids_entropy_country'] = (bids_entropy_coun['bids_entropy_country']+1).transform(np.log)\n"
   ]
  },
  {
   "cell_type": "code",
   "execution_count": 14,
   "id": "9eef9dbf",
   "metadata": {},
   "outputs": [
    {
     "ename": "NameError",
     "evalue": "name 'same_response_diff' is not defined",
     "output_type": "error",
     "traceback": [
      "\u001b[1;31m---------------------------------------------------------------------------\u001b[0m",
      "\u001b[1;31mNameError\u001b[0m                                 Traceback (most recent call last)",
      "\u001b[1;32m<ipython-input-14-33ca720d5f7b>\u001b[0m in \u001b[0;36m<module>\u001b[1;34m\u001b[0m\n\u001b[1;32m----> 1\u001b[1;33m \u001b[0mbids_entropy_coun_diff\u001b[0m\u001b[1;33m[\u001b[0m\u001b[0msame_response_diff\u001b[0m\u001b[1;33m[\u001b[0m\u001b[1;34m'outcome'\u001b[0m\u001b[1;33m]\u001b[0m \u001b[1;33m==\u001b[0m \u001b[1;36m1\u001b[0m\u001b[1;33m]\u001b[0m\u001b[1;33m.\u001b[0m\u001b[0mmean\u001b[0m\u001b[1;33m(\u001b[0m\u001b[1;33m)\u001b[0m\u001b[1;33m\u001b[0m\u001b[1;33m\u001b[0m\u001b[0m\n\u001b[0m",
      "\u001b[1;31mNameError\u001b[0m: name 'same_response_diff' is not defined"
     ]
    }
   ],
   "source": [
    "bids_entropy_coun_diff[same_response_diff['outcome'] == 1].mean()"
   ]
  },
  {
   "cell_type": "code",
   "execution_count": null,
   "id": "7dfe5918",
   "metadata": {},
   "outputs": [],
   "source": [
    "from statistics import mean , median \n",
    "from scipy.stats import entropy\n",
    "\n",
    "entropy_url = bids_df.groupby(\"bidder_id\")\n",
    "\n",
    "def bid_entropy_per_ip(group):\n",
    "\n",
    "    url_dict = {}\n",
    "    total_bids = 0\n",
    "    for row_index, row in group.iterrows():\n",
    "        total_bids += 1\n",
    "        url = row['url']\n",
    "        \n",
    "        if url not in url_dict:\n",
    "            url_dict[url] = 1\n",
    "        else:\n",
    "            url_dict[url] += 1\n",
    "            \n",
    "            \n",
    "    url_percent_list = []\n",
    "    \n",
    "    for url_bids in url_dict.values():\n",
    "        \n",
    "        percent = url_bids/total_bids   \n",
    "        url_percent_list.append(percent)\n",
    "    \n",
    "#     print(ip_percent_list)\n",
    "    bid_entropy = entropy(url_percent_list)\n",
    "\n",
    "    return bid_entropy\n",
    "\n",
    "# def time_diff_func(group):\n",
    "    \n",
    "#     for index in group.time:\n",
    "#     first_time = []\n",
    "#     diffs = []\n",
    "#     for time in group.time:\n",
    "    \n",
    "#         if len(first_time) == 0:\n",
    "#             first_time.append(time)\n",
    "#             print(first_time)\n",
    "#         else:\n",
    "#             diff = time - first_time[0]\n",
    "#             diffs.append(diff)\n",
    "#         first_time.clear()\n",
    "#         first_time.append(time)\n",
    "    \n",
    "#     if len(diffs) == 0:\n",
    "#         return 0\n",
    "#     return median(diffs)\n",
    "\n",
    "hope = entropy_url.apply(bid_entropy_per_ip)\n",
    "hope"
   ]
  },
  {
   "cell_type": "code",
   "execution_count": null,
   "id": "116408b2",
   "metadata": {},
   "outputs": [],
   "source": [
    "bids_entropy_url = pd.DataFrame(hope)\n",
    "bids_entropy_url = bids_entropy_url.rename(columns={0:'bids_entropy_per_url'})\n",
    "bids_entropy_url = bids_entropy_url.reset_index()\n",
    "bids_entropy_url_diff = train_df[['bidder_id','outcome']].merge(bids_entropy_url,on = 'bidder_id',how='left' )\n",
    "bids_entropy_url_diff"
   ]
  },
  {
   "cell_type": "code",
   "execution_count": null,
   "id": "4e45a937",
   "metadata": {},
   "outputs": [],
   "source": [
    "bids_entropy_url['log_bids_entropy_url'] = (bids_entropy_url['bids_entropy_per_url']+1).transform(np.log)\n"
   ]
  },
  {
   "cell_type": "code",
   "execution_count": null,
   "id": "1af9ecf4",
   "metadata": {},
   "outputs": [],
   "source": [
    "from statistics import mean , median \n",
    "from scipy.stats import entropy\n",
    "\n",
    "entropy_ip = bids_df.groupby(\"bidder_id\")\n",
    "\n",
    "def bid_entropy_per_url(group):\n",
    "\n",
    "    ip_dict = {}\n",
    "    total_bids = 0\n",
    "    for row_index, row in group.iterrows():\n",
    "        total_bids += 1\n",
    "        ip = row['ip']\n",
    "        \n",
    "        if ip not in ip_dict:\n",
    "            ip_dict[ip] = 1\n",
    "        else:\n",
    "            ip_dict[ip] += 1\n",
    "            \n",
    "            \n",
    "    ip_percent_list = []\n",
    "    \n",
    "    for ip_bids in ip_dict.values():\n",
    "        \n",
    "        percent = ip_bids/total_bids   \n",
    "        ip_percent_list.append(percent)\n",
    "    \n",
    "#     print(ip_percent_list)\n",
    "    bid_entropy = entropy(ip_percent_list)\n",
    "\n",
    "    return bid_entropy\n",
    "\n",
    "# def time_diff_func(group):\n",
    "    \n",
    "#     for index in group.time:\n",
    "#     first_time = []\n",
    "#     diffs = []\n",
    "#     for time in group.time:\n",
    "    \n",
    "#         if len(first_time) == 0:\n",
    "#             first_time.append(time)\n",
    "#             print(first_time)\n",
    "#         else:\n",
    "#             diff = time - first_time[0]\n",
    "#             diffs.append(diff)\n",
    "#         first_time.clear()\n",
    "#         first_time.append(time)\n",
    "    \n",
    "#     if len(diffs) == 0:\n",
    "#         return 0\n",
    "#     return median(diffs)\n",
    "\n",
    "bless = entropy_ip.apply(bid_entropy_per_url)\n",
    "bless"
   ]
  },
  {
   "cell_type": "code",
   "execution_count": null,
   "id": "01e7157f",
   "metadata": {},
   "outputs": [],
   "source": [
    "bids_entropy_ip = pd.DataFrame(bless)\n",
    "bids_entropy_ip = bids_entropy_ip.rename(columns={0:'bids_entropy_per_ip'})\n",
    "bids_entropy_ip = bids_entropy_ip.reset_index()\n",
    "bids_entropy_ip"
   ]
  },
  {
   "cell_type": "code",
   "execution_count": null,
   "id": "2d34ea15",
   "metadata": {},
   "outputs": [],
   "source": [
    "bids_entropy_ip['log_bids_entropy_ip'] = (bids_entropy_ip['bids_entropy_per_ip']+1).transform(np.log)\n"
   ]
  },
  {
   "cell_type": "code",
   "execution_count": null,
   "id": "c7a9d233",
   "metadata": {},
   "outputs": [],
   "source": [
    "bids_entropy_ip_diff = train_df[['bidder_id','outcome']].merge(bids_entropy_ip_diff,on = 'bidder_id',how='left' )\n",
    "bids_entropy_ip_diff"
   ]
  },
  {
   "cell_type": "code",
   "execution_count": null,
   "id": "5985bc3b",
   "metadata": {},
   "outputs": [],
   "source": [
    "instant_response_counts = bids_df.groupby(\"bidder_id\")\n",
    "\n",
    "def func(group):\n",
    "    mode = (group.time).mode\n",
    "    time_dict = {}\n",
    "    for time in group.time:\n",
    "        if time not in time_dict:\n",
    "            time_dict[time] = 1\n",
    "        else:\n",
    "            time_dict[time] += 1\n",
    "    return max(time_dict.values())\n",
    "    "
   ]
  },
  {
   "cell_type": "code",
   "execution_count": null,
   "id": "f644960c",
   "metadata": {},
   "outputs": [],
   "source": [
    "instant_response = instant_response_counts.apply(func)"
   ]
  },
  {
   "cell_type": "code",
   "execution_count": null,
   "id": "a03e9c20",
   "metadata": {},
   "outputs": [],
   "source": [
    "same_response_counts = pd.DataFrame(instant_response)\n",
    "same_response_counts = same_response_counts.rename(columns={0:'num_instant_counts'})\n",
    "same_response_counts = same_response_counts.reset_index()\n",
    "same_response_counts"
   ]
  },
  {
   "cell_type": "code",
   "execution_count": null,
   "id": "b5bf896f",
   "metadata": {},
   "outputs": [],
   "source": [
    "same_response_counts['log_counts'] = (same_response_counts['num_instant_counts']+1).transform(np.log)\n",
    "same_response_counts"
   ]
  },
  {
   "cell_type": "code",
   "execution_count": null,
   "id": "c49bbedc",
   "metadata": {},
   "outputs": [],
   "source": [
    "same_response_diff = train_df[['bidder_id','outcome']].merge(same_response_counts,on = 'bidder_id',how='left' )\n",
    "same_response_diff[same_response_diff['outcome'] == 0].mean()"
   ]
  },
  {
   "cell_type": "code",
   "execution_count": null,
   "id": "6e806c7f",
   "metadata": {},
   "outputs": [],
   "source": [
    "same_response_diff[same_response_diff['outcome'] == 1].mean()"
   ]
  },
  {
   "cell_type": "code",
   "execution_count": null,
   "id": "68da64cf",
   "metadata": {},
   "outputs": [],
   "source": [
    "from statistics import mean , median \n",
    "\n",
    "response_difference_per_auc = bids_df.groupby(\"bidder_id\")\n",
    "\n",
    "\n",
    "\n",
    "def response_difference(group):\n",
    "\n",
    "    time_dict = {}\n",
    "    for row_index, row in group.iterrows():\n",
    "        auction = row['auction']\n",
    "        time = row['time']\n",
    "        \n",
    "        if auction not in time_dict:\n",
    "            time_dict[auction] = [time]\n",
    "        elif time not in time_dict[auction]:\n",
    "            time_dict[auction] += [time]\n",
    "            \n",
    "            \n",
    "    difference_list = []\n",
    "    \n",
    "    for times in time_dict.values():\n",
    "        \n",
    "        diffs = []\n",
    "        \n",
    "        if len(times) == 1:\n",
    "            diffs.append(0)\n",
    "        \n",
    "        for index in range(0,len(times)-1):\n",
    "            diff = times[index + 1] - times[index]\n",
    "            diffs.append(diff)\n",
    "         \n",
    "        difference_list.append(mean(diffs))\n",
    "\n",
    "    return median(difference_list)\n",
    "\n",
    "# def time_diff_func(group):\n",
    "    \n",
    "#     for index in group.time:\n",
    "#     first_time = []\n",
    "#     diffs = []\n",
    "#     for time in group.time:\n",
    "    \n",
    "#         if len(first_time) == 0:\n",
    "#             first_time.append(time)\n",
    "#             print(first_time)\n",
    "#         else:\n",
    "#             diff = time - first_time[0]\n",
    "#             diffs.append(diff)\n",
    "#         first_time.clear()\n",
    "#         first_time.append(time)\n",
    "    \n",
    "#     if len(diffs) == 0:\n",
    "#         return 0\n",
    "#     return median(diffs)\n",
    "\n",
    "res = response_difference_per_auc.apply(response_difference)\n",
    "res"
   ]
  },
  {
   "cell_type": "code",
   "execution_count": null,
   "id": "4ac8b358",
   "metadata": {},
   "outputs": [],
   "source": [
    "response_difference = pd.DataFrame(res)\n",
    "response_difference = response_difference.rename(columns={0:'response_difference'})\n",
    "response_difference = response_difference.reset_index()\n",
    "response_difference"
   ]
  },
  {
   "cell_type": "code",
   "execution_count": null,
   "id": "7b924cbe",
   "metadata": {},
   "outputs": [],
   "source": [
    "def to_ones(value):\n",
    "    if value == 0:\n",
    "        return 1\n",
    "    else:\n",
    "        return value"
   ]
  },
  {
   "cell_type": "code",
   "execution_count": null,
   "id": "558eb98d",
   "metadata": {},
   "outputs": [],
   "source": [
    "response_difference['changed_Os_to_1s'] = response_difference['response_difference'].apply(to_ones)\n",
    "response_difference"
   ]
  },
  {
   "cell_type": "code",
   "execution_count": null,
   "id": "c9e5dc0a",
   "metadata": {},
   "outputs": [],
   "source": [
    "response_difference['log_difference'] = (response_difference['changed_Os_to_1s']+1).transform(np.log)\n",
    "response_difference"
   ]
  },
  {
   "cell_type": "code",
   "execution_count": null,
   "id": "6523e7e4",
   "metadata": {},
   "outputs": [],
   "source": [
    "bids_response_diff = train_df[['bidder_id','outcome']].merge(response_difference,on = 'bidder_id',how='left' )\n",
    "bids_response_diff"
   ]
  },
  {
   "cell_type": "code",
   "execution_count": null,
   "id": "561249b5",
   "metadata": {},
   "outputs": [],
   "source": [
    "bots_response_diff = bids_response_diff[bids_response_diff['outcome'] == 1]\n",
    "bots_response_diff['response_difference'].mean()"
   ]
  },
  {
   "cell_type": "code",
   "execution_count": null,
   "id": "bc5dad96",
   "metadata": {},
   "outputs": [],
   "source": [
    "humans_response_diff = bids_response_diff[bids_response_diff['outcome'] == 0]\n",
    "humans_response_diff['response_difference'].mean()"
   ]
  },
  {
   "cell_type": "code",
   "execution_count": null,
   "id": "c5f7a548",
   "metadata": {},
   "outputs": [],
   "source": [
    "response_difference['log_difference'] = (response_difference['response_difference']+1).transform(np.log)\n",
    "response_difference['log_difference'].min()"
   ]
  },
  {
   "cell_type": "code",
   "execution_count": null,
   "id": "ea9dad1c",
   "metadata": {},
   "outputs": [],
   "source": [
    "change_url_per_auc = bids_df.groupby(\"bidder_id\")\n",
    "\n",
    "def change_url_auc(group):\n",
    "    \n",
    "    changes_dict = {}\n",
    "    for row_index, row in group.iterrows():\n",
    "        auction = row['auction']\n",
    "        url = row['url']\n",
    "        \n",
    "        if auction not in changes_dict:\n",
    "            changes_dict[auction] = [url]\n",
    "        elif url not in changes_dict[auction]:\n",
    "            changes_dict[auction] += [url]\n",
    "\n",
    "    change_list = []\n",
    "    for changes in changes_dict.values():\n",
    "        change_list.append(len(changes))\n",
    "        \n",
    "\n",
    "    return mean(change_list)\n",
    "                \n",
    "        \n",
    "        \n",
    "#     first_time = []\n",
    "#     diffs = []\n",
    "#     for time in group.time:\n",
    "    \n",
    "#         if len(first_time) == 0:\n",
    "#             first_time.append(time)\n",
    "#             print(first_time)\n",
    "#         else:\n",
    "#             diff = time - first_time[0]\n",
    "#             diffs.append(diff)\n",
    "#         first_time.clear()\n",
    "#         first_time.append(time)\n",
    "    \n",
    "#     if len(diffs) == 0:\n",
    "#         return 0\n",
    "#     return median(diffs)\n",
    "\n",
    "url_change = change_url_per_auc.apply(change_url_auc)\n",
    "url_change"
   ]
  },
  {
   "cell_type": "code",
   "execution_count": null,
   "id": "4298ad6d",
   "metadata": {},
   "outputs": [],
   "source": [
    "change_url_freq = pd.DataFrame(url_change)\n",
    "change_url_freq = change_url_freq.rename(columns={0:'change_url_freq'})\n",
    "change_url_freq = change_url_freq.reset_index()\n",
    "change_url_freq['change_url_freq'].max()"
   ]
  },
  {
   "cell_type": "code",
   "execution_count": null,
   "id": "199259b3",
   "metadata": {},
   "outputs": [],
   "source": [
    "change_url_freq['log_change_url_freq'] = (change_url_freq['change_url_freq']+1).transform(np.log)\n",
    "change_url_freq"
   ]
  },
  {
   "cell_type": "code",
   "execution_count": null,
   "id": "14b9c0fc",
   "metadata": {},
   "outputs": [],
   "source": [
    "change_ip_per_auc = bids_df.groupby(\"bidder_id\")\n",
    "\n",
    "def change_url_auc(group):\n",
    "    \n",
    "    changes_dict = {}\n",
    "    for row_index, row in group.iterrows():\n",
    "        auction = row['auction']\n",
    "        ip = row['ip']\n",
    "        \n",
    "        if auction not in changes_dict:\n",
    "            changes_dict[auction] = [ip]\n",
    "        elif ip not in changes_dict[auction]:\n",
    "            changes_dict[auction] += [ip]\n",
    "\n",
    "    change_list = []\n",
    "    for changes in changes_dict.values():\n",
    "        change_list.append(len(changes))\n",
    "        \n",
    "\n",
    "    return mean(change_list)\n",
    "                \n",
    "        \n",
    "        \n",
    "#     first_time = []\n",
    "#     diffs = []\n",
    "#     for time in group.time:\n",
    "    \n",
    "#         if len(first_time) == 0:\n",
    "#             first_time.append(time)\n",
    "#             print(first_time)\n",
    "#         else:\n",
    "#             diff = time - first_time[0]\n",
    "#             diffs.append(diff)\n",
    "#         first_time.clear()\n",
    "#         first_time.append(time)\n",
    "    \n",
    "#     if len(diffs) == 0:\n",
    "#         return 0\n",
    "#     return median(diffs)\n",
    "\n",
    "ip_change = change_ip_per_auc.apply(change_url_auc)\n",
    "ip_change"
   ]
  },
  {
   "cell_type": "code",
   "execution_count": null,
   "id": "e28a73ac",
   "metadata": {},
   "outputs": [],
   "source": [
    "change_ip_freq = pd.DataFrame(ip_change)\n",
    "change_ip_freq = change_ip_freq.rename(columns={0:'change_ip_freq'})\n",
    "change_ip_freq = change_ip_freq.reset_index()\n",
    "change_ip_freq['log_change_ip_freq'] = (change_ip_freq['change_ip_freq']+1).transform(np.log)\n",
    "change_ip_freq"
   ]
  },
  {
   "cell_type": "code",
   "execution_count": null,
   "id": "3d18eca8",
   "metadata": {},
   "outputs": [],
   "source": [
    "countries_per_auc = bids_df.groupby(\"bidder_id\")\n",
    "\n",
    "def change_country_per_auc(group):\n",
    "    \n",
    "    changes_dict = {}\n",
    "    for row_index, row in group.iterrows():\n",
    "        auction = row['auction']\n",
    "        country = row['country']\n",
    "        \n",
    "        if auction not in changes_dict:\n",
    "            changes_dict[auction] = [country]\n",
    "        elif country not in changes_dict[auction]:\n",
    "            changes_dict[auction] += [country]\n",
    "    \n",
    "    change_list = []\n",
    "    for changes in changes_dict.values():\n",
    "        change_list.append(len(changes))\n",
    "        \n",
    "\n",
    "    return mean(change_list)\n",
    "                \n",
    "        \n",
    "        \n",
    "#     first_time = []\n",
    "#     diffs = []\n",
    "#     for time in group.time:\n",
    "    \n",
    "#         if len(first_time) == 0:\n",
    "#             first_time.append(time)\n",
    "#             print(first_time)\n",
    "#         else:\n",
    "#             diff = time - first_time[0]\n",
    "#             diffs.append(diff)\n",
    "#         first_time.clear()\n",
    "#         first_time.append(time)\n",
    "    \n",
    "#     if len(diffs) == 0:\n",
    "#         return 0\n",
    "#     return median(diffs)\n",
    "\n",
    "no = countries_per_auc.apply(change_country_per_auc)\n",
    "no"
   ]
  },
  {
   "cell_type": "code",
   "execution_count": null,
   "id": "a5a11938",
   "metadata": {},
   "outputs": [],
   "source": [
    "countries_per_auc = pd.DataFrame(no)\n",
    "countries_per_auc = countries_per_auc.rename(columns={0:'countries_per_auc'})\n",
    "countries_per_auc = countries_per_auc.reset_index()\n",
    "countries_per_auc['countries_per_auc'].max()"
   ]
  },
  {
   "cell_type": "code",
   "execution_count": null,
   "id": "b2a5aebd",
   "metadata": {},
   "outputs": [],
   "source": [
    "countries_per_auc['log_countries_per_auc'] = (countries_per_auc['countries_per_auc']+1).transform(np.log)\n",
    "countries_per_auc"
   ]
  },
  {
   "cell_type": "markdown",
   "id": "4fade309",
   "metadata": {},
   "source": [
    "We combine the new data we generated with <code>train_df</code> using <code>merge()</code>. Thereafter, we replace the NAs with 0 using <code>.fillna()</code>"
   ]
  },
  {
   "cell_type": "code",
   "execution_count": null,
   "id": "f05b9af1",
   "metadata": {},
   "outputs": [],
   "source": [
    "feature_set = train_df.merge(bidder_counts, on='bidder_id', how='left')  # Make sure NOT to use the default inner join (how='inner')\n",
    "# print(feature_set.isnull().sum())\n",
    "\n",
    "feature_set['num_bids'] = feature_set['num_bids'].fillna(0)  # fill nas with zeros\n",
    "feature_set"
   ]
  },
  {
   "cell_type": "code",
   "execution_count": null,
   "id": "34c6b128",
   "metadata": {},
   "outputs": [],
   "source": [
    "from statistics import mean\n",
    "\n",
    "bid_merch = bids_df.groupby(\"bidder_id\")\n",
    "\n",
    "def common_merch(group):\n",
    "    merch_dict = {}\n",
    "    for merch in group.merchandise:\n",
    "        if merch not in merch_dict:\n",
    "            merch_dict[merch] = 1\n",
    "        else:\n",
    "            merch_dict[merch] += 1\n",
    "    return max(merch_dict, key = merch_dict.get)\n",
    "\n",
    "common_merch = bid_merch.apply(common_merch)\n",
    "common_merch"
   ]
  },
  {
   "cell_type": "code",
   "execution_count": null,
   "id": "5d5535c0",
   "metadata": {},
   "outputs": [],
   "source": [
    "# common_merch = pd.DataFrame(common_merch)\n",
    "# common_merch = common_merch.rename(columns={0:'common_merch'})\n",
    "# common_merch = common_merch.reset_index()\n",
    "# common_merch_OH_encoding = pd.get_dummies(common_merch['common_merch']).drop(columns='home goods')\n",
    "# common_merch_OH_encoding_concat_df = pd.concat([common_merch, common_merch_OH_encoding], axis=1)\n",
    "# common_merch_OH_encoding_concat_df"
   ]
  },
  {
   "cell_type": "code",
   "execution_count": null,
   "id": "30b66f69",
   "metadata": {},
   "outputs": [],
   "source": [
    "# common_merch_OH_encoding_concat_df = common_merch_OH_encoding_concat_df.drop(columns = 'common_merch')"
   ]
  },
  {
   "cell_type": "code",
   "execution_count": null,
   "id": "63fc70f4",
   "metadata": {},
   "outputs": [],
   "source": [
    "# from statistics import mean\n",
    "\n",
    "# bid_country = bids_df.groupby(\"bidder_id\")\n",
    "\n",
    "# def common_country(group):\n",
    "#     country_dict = {}\n",
    "#     for country in group.country:\n",
    "#         if country not in country_dict:\n",
    "#             country_dict[country] = 1\n",
    "#         else:\n",
    "#             country_dict[country] += 1\n",
    "#     return max(country_dict, key = country_dict.get)\n",
    "\n",
    "# common_country = bid_country.apply(common_country)\n",
    "# common_country"
   ]
  },
  {
   "cell_type": "code",
   "execution_count": null,
   "id": "fedca295",
   "metadata": {},
   "outputs": [],
   "source": [
    "# common_country = pd.DataFrame(common_country)\n",
    "# common_country = common_country.rename(columns={0:'common_country'})\n",
    "# common_country = common_country.reset_index()\n",
    "# common_country_OH_encoding = pd.get_dummies(common_country['common_country']).drop(columns='in')\n",
    "# common_country_OH_encoding_concat_df = pd.concat([common_country, common_country_OH_encoding], axis=1)\n",
    "# common_country_OH_encoding_concat_df.drop(columns = 'common_country')\n",
    "# common_country_OH_encoding_concat_df"
   ]
  },
  {
   "cell_type": "code",
   "execution_count": null,
   "id": "23616843",
   "metadata": {},
   "outputs": [],
   "source": [
    "# common_country_OH_encoding_concat_df"
   ]
  },
  {
   "cell_type": "markdown",
   "id": "44360657",
   "metadata": {},
   "source": [
    "## 2b. Adding more feature columns with `.nunique()`\n",
    "\n",
    "Using this method, we can further generate other potentially useful features for each bidder id. \n",
    "\n",
    "To demonstrate this, let's try something other than count, for e.g. <code>.nunique()</code>.\n",
    "\n",
    "**Note: Depending on your computer RAM, the next cell of code may take up to few minutes to run.**"
   ]
  },
  {
   "cell_type": "code",
   "execution_count": null,
   "id": "11a608c9",
   "metadata": {},
   "outputs": [],
   "source": [
    "bidder_unique = bids_df.groupby(\"bidder_id\").nunique()\n",
    "# bidder_unique"
   ]
  },
  {
   "cell_type": "code",
   "execution_count": null,
   "id": "bbee74a6",
   "metadata": {
    "scrolled": true
   },
   "outputs": [],
   "source": [
    "bidder_unique = bidder_unique.drop(columns='bidder_id', errors='ignore').reset_index()\n",
    "# bidder_unique"
   ]
  },
  {
   "cell_type": "code",
   "execution_count": null,
   "id": "90f62bf6",
   "metadata": {},
   "outputs": [],
   "source": [
    "bidder_unique['url_per_auc'] = bidder_unique.url /  bidder_unique.auction\n",
    "bidder_unique['log_url_per_auc'] = (bidder_unique['url_per_auc']+1).transform(np.log)\n",
    "# bidder_unique"
   ]
  },
  {
   "cell_type": "code",
   "execution_count": null,
   "id": "e6417695",
   "metadata": {},
   "outputs": [],
   "source": [
    "bidder_unique['ips_per_auc'] = bidder_unique.ip /  bidder_unique.auction\n",
    "bidder_unique['log_ips_per_auc'] = (bidder_unique['ips_per_auc']+1).transform(np.log)\n",
    "# bidder_unique"
   ]
  },
  {
   "cell_type": "code",
   "execution_count": null,
   "id": "c0db5d86",
   "metadata": {},
   "outputs": [],
   "source": [
    "bidder_unique['dev_per_auc'] = bidder_unique.device /  bidder_unique.auction\n",
    "bidder_unique['log_dev_per_auc'] = (bidder_unique['dev_per_auc']+1).transform(np.log)\n",
    "# bidder_unique"
   ]
  },
  {
   "cell_type": "code",
   "execution_count": null,
   "id": "2a0d4fa0",
   "metadata": {},
   "outputs": [],
   "source": [
    "bidder_unique['time_per_auc'] = bidder_unique.time /  bidder_unique.auction\n",
    "bidder_unique['log_time_per_auc'] = (bidder_unique['time_per_auc']+1).transform(np.log)\n",
    "# bidder_unique"
   ]
  },
  {
   "cell_type": "code",
   "execution_count": null,
   "id": "4b45e398",
   "metadata": {},
   "outputs": [],
   "source": [
    "bidder_unique['time_per_dev'] = bidder_unique.time /  bidder_unique.device\n",
    "bidder_unique['log_bids_per_dev'] = (bidder_unique['time_per_dev']+1).transform(np.log)\n",
    "# bidder_unique"
   ]
  },
  {
   "cell_type": "code",
   "execution_count": null,
   "id": "db019a82",
   "metadata": {},
   "outputs": [],
   "source": [
    "bidder_unique['time_per_country'] = bidder_unique.time /  bidder_unique.country\n",
    "bidder_unique['log_bids_per_country'] = (bidder_unique['time_per_country']+1).transform(np.log)\n",
    "# bidder_unique"
   ]
  },
  {
   "cell_type": "code",
   "execution_count": null,
   "id": "06bad1ef",
   "metadata": {},
   "outputs": [],
   "source": [
    "bidder_unique['ip_per_country'] = bidder_unique.ip /  bidder_unique.country\n",
    "bidder_unique['log_bids_per_country'] = (bidder_unique['ip_per_country']+1).transform(np.log)\n",
    "# bidder_unique"
   ]
  },
  {
   "cell_type": "code",
   "execution_count": null,
   "id": "e0e2958a",
   "metadata": {},
   "outputs": [],
   "source": [
    "bidder_unique['url_per_country'] = bidder_unique.url /  bidder_unique.country\n",
    "bidder_unique['log_bids_per_country'] = (bidder_unique['url_per_country']+1).transform(np.log)\n",
    "# bidder_unique"
   ]
  },
  {
   "cell_type": "code",
   "execution_count": null,
   "id": "32c9b592",
   "metadata": {},
   "outputs": [],
   "source": [
    "bidder_unique['dev_per_country'] = bidder_unique.device /  bidder_unique.country\n",
    "bidder_unique['log_bids_per_country'] = (bidder_unique['dev_per_country']+1).transform(np.log)\n",
    "# bidder_unique"
   ]
  },
  {
   "cell_type": "code",
   "execution_count": null,
   "id": "18f405ee",
   "metadata": {},
   "outputs": [],
   "source": [
    "bidder_unique['time_per_ip'] = bidder_unique.time /  bidder_unique.ip\n",
    "bidder_unique['log_bids_per_ip'] = (bidder_unique['time_per_ip']+1).transform(np.log)\n",
    "# bidder_unique"
   ]
  },
  {
   "cell_type": "code",
   "execution_count": null,
   "id": "8e316f51",
   "metadata": {},
   "outputs": [],
   "source": [
    "bidder_unique['time_per_url'] = bidder_unique.time /  bidder_unique.url\n",
    "bidder_unique['log_bids_per_url'] = (bidder_unique['time_per_url']+1).transform(np.log)\n",
    "# bidder_unique"
   ]
  },
  {
   "cell_type": "code",
   "execution_count": null,
   "id": "8e51b512",
   "metadata": {},
   "outputs": [],
   "source": [
    "bidder_unique = bidder_unique.merge(bidder_counts, on='bidder_id', how='left')\n",
    "bidder_unique"
   ]
  },
  {
   "cell_type": "code",
   "execution_count": null,
   "id": "c3d1395c",
   "metadata": {},
   "outputs": [],
   "source": [
    "bidder_unique['bid_per_auc'] = bidder_unique.num_bids /  bidder_unique.auction\n",
    "bidder_unique['log_bid_per_auc'] = (bidder_unique['bid_per_auc']+1).transform(np.log)\n",
    "# bidder_unique"
   ]
  },
  {
   "cell_type": "code",
   "execution_count": null,
   "id": "e8da6e27",
   "metadata": {},
   "outputs": [],
   "source": [
    "bidder_unique['bids_per_country'] = bidder_unique.num_bids /  bidder_unique.country\n",
    "bidder_unique['log_bids_per_country'] = (bidder_unique['bids_per_country']+1).transform(np.log)\n",
    "# bidder_unique"
   ]
  },
  {
   "cell_type": "code",
   "execution_count": null,
   "id": "078a4293",
   "metadata": {},
   "outputs": [],
   "source": [
    "bidder_unique['bids_per_ip'] = bidder_unique.num_bids /  bidder_unique.ip\n",
    "bidder_unique['log_bids_per_ip'] = (bidder_unique['bids_per_ip']+1).transform(np.log)\n",
    "# bidder_unique"
   ]
  },
  {
   "cell_type": "code",
   "execution_count": null,
   "id": "7ef226db",
   "metadata": {},
   "outputs": [],
   "source": [
    "bidder_unique['bids_per_url'] = bidder_unique.num_bids /  bidder_unique.url\n",
    "bidder_unique['log_bids_per_ip'] = (bidder_unique['bids_per_url']+1).transform(np.log)\n",
    "# bidder_unique"
   ]
  },
  {
   "cell_type": "code",
   "execution_count": null,
   "id": "f32ef953",
   "metadata": {},
   "outputs": [],
   "source": [
    "bidder_unique['bids_per_dev'] = bidder_unique.num_bids /  bidder_unique.device\n",
    "bidder_unique['log_bids_per_ip'] = (bidder_unique['bids_per_dev']+1).transform(np.log)\n",
    "# bidder_unique"
   ]
  },
  {
   "cell_type": "code",
   "execution_count": null,
   "id": "5e397f4a",
   "metadata": {},
   "outputs": [],
   "source": [
    "bidder_unique = bidder_unique.merge(same_response_counts, on='bidder_id', how='left')\n",
    "# bidder_unique"
   ]
  },
  {
   "cell_type": "code",
   "execution_count": null,
   "id": "6dc6ac45",
   "metadata": {},
   "outputs": [],
   "source": [
    "bidder_unique = bidder_unique.merge(response_difference, on='bidder_id', how='left')\n",
    "# bidder_unique"
   ]
  },
  {
   "cell_type": "code",
   "execution_count": null,
   "id": "029e632c",
   "metadata": {},
   "outputs": [],
   "source": [
    "bidder_unique = bidder_unique.merge(change_url_freq, on='bidder_id', how='left')"
   ]
  },
  {
   "cell_type": "code",
   "execution_count": null,
   "id": "4e8a785b",
   "metadata": {},
   "outputs": [],
   "source": [
    "bidder_unique = bidder_unique.merge(change_ip_freq, on='bidder_id', how='left')\n",
    "# bidder_unique"
   ]
  },
  {
   "cell_type": "code",
   "execution_count": null,
   "id": "db1f2e5a",
   "metadata": {},
   "outputs": [],
   "source": [
    "bidder_unique = bidder_unique.merge(countries_per_auc, on='bidder_id', how='left')\n",
    "# bidder_unique"
   ]
  },
  {
   "cell_type": "code",
   "execution_count": null,
   "id": "c82f354e",
   "metadata": {},
   "outputs": [],
   "source": [
    "# bidder_unique = bidder_unique.merge(common_merch_OH_encoding_concat_df, on='bidder_id', how='left')\n",
    "# # bidder_unique"
   ]
  },
  {
   "cell_type": "code",
   "execution_count": null,
   "id": "e653a9eb",
   "metadata": {},
   "outputs": [],
   "source": [
    "# feature_set = bidder_unique.merge(common_country_OH_encoding_concat_df, on='bidder_id', how='left')\n",
    "# feature_set"
   ]
  },
  {
   "cell_type": "code",
   "execution_count": null,
   "id": "813b0f4e",
   "metadata": {},
   "outputs": [],
   "source": [
    "bidder_unique = bidder_unique.merge(bids_entropy_ip, on='bidder_id', how='left')"
   ]
  },
  {
   "cell_type": "code",
   "execution_count": null,
   "id": "c4382f0c",
   "metadata": {},
   "outputs": [],
   "source": [
    "bidder_unique = bidder_unique.merge(bids_entropy_url, on='bidder_id', how='left')"
   ]
  },
  {
   "cell_type": "code",
   "execution_count": null,
   "id": "2af17d3d",
   "metadata": {},
   "outputs": [],
   "source": [
    "bidder_unique = bidder_unique.merge(bids_entropy_coun, on='bidder_id', how='left')"
   ]
  },
  {
   "cell_type": "code",
   "execution_count": null,
   "id": "852ac6ca",
   "metadata": {},
   "outputs": [],
   "source": [
    "bidder_unique = bidder_unique.merge(bids_entropy_auc, on='bidder_id', how='left')"
   ]
  },
  {
   "cell_type": "code",
   "execution_count": null,
   "id": "c2b6e520",
   "metadata": {},
   "outputs": [],
   "source": [
    "bidder_unique = bidder_unique.merge(ips_entropy_per_auc, on='bidder_id', how='left')"
   ]
  },
  {
   "cell_type": "code",
   "execution_count": null,
   "id": "69abaedb",
   "metadata": {},
   "outputs": [],
   "source": [
    "bidder_unique['log_url'] = (bidder_unique['url']+1).transform(np.log)\n",
    "bidder_unique['log_auction'] = (bidder_unique['auction']+1).transform(np.log)\n",
    "bidder_unique['log_device'] = (bidder_unique['device']+1).transform(np.log)\n",
    "bidder_unique['log_time'] = (bidder_unique['time']+1).transform(np.log)\n",
    "bidder_unique['log_country'] = (bidder_unique['country']+1).transform(np.log)\n",
    "bidder_unique['log_ip'] = (bidder_unique['ip']+1).transform(np.log)"
   ]
  },
  {
   "cell_type": "code",
   "execution_count": null,
   "id": "0bf17fd9",
   "metadata": {},
   "outputs": [],
   "source": [
    "bidder_unique"
   ]
  },
  {
   "cell_type": "code",
   "execution_count": null,
   "id": "9da3a8f5",
   "metadata": {},
   "outputs": [],
   "source": []
  },
  {
   "cell_type": "markdown",
   "id": "fca7ad72",
   "metadata": {},
   "source": [
    "Again, we combine the new data we generated with <code>train_df</code> using <code>merge()</code>."
   ]
  },
  {
   "cell_type": "code",
   "execution_count": null,
   "id": "45a61620",
   "metadata": {},
   "outputs": [],
   "source": [
    "train_set = train_df.merge(bidder_unique, on='bidder_id', how='left')\n",
    "test_set = test_df.merge(bidder_unique, on='bidder_id', how='left')\n",
    "train_set"
   ]
  },
  {
   "cell_type": "code",
   "execution_count": null,
   "id": "4b1f2343",
   "metadata": {},
   "outputs": [],
   "source": [
    "train_set.replace([np.inf, -np.inf], np.nan, inplace=True)\n",
    "test_set.replace([np.inf, -np.inf], np.nan, inplace=True)"
   ]
  },
  {
   "cell_type": "code",
   "execution_count": null,
   "id": "a0d9ca0a",
   "metadata": {},
   "outputs": [],
   "source": [
    "checking_see_df = train_set[train_set['outcome'] == 1.0]\n",
    "checking_see_df"
   ]
  },
  {
   "cell_type": "markdown",
   "id": "31129fe5",
   "metadata": {},
   "source": [
    "#### test_set"
   ]
  },
  {
   "cell_type": "code",
   "execution_count": null,
   "id": "7b134606",
   "metadata": {},
   "outputs": [],
   "source": [
    "train_set.columns"
   ]
  },
  {
   "cell_type": "code",
   "execution_count": null,
   "id": "7d39392b",
   "metadata": {},
   "outputs": [],
   "source": [
    "# feature_cols = train_set.drop(columns = ['outcome','bidder_id','payment_account','address','bid_id','changed_Os_to_1s'] )\n",
    "# feature_cols =  list(feature_cols.columns)\n",
    "# X = train_set[feature_cols]\n",
    "# y = train_set['outcome']\n",
    "\n",
    "# import pandas as pd\n",
    "# import numpy as np\n",
    "# from sklearn.feature_selection import SelectKBest\n",
    "# from sklearn.feature_selection import chi2\n",
    "# from scipy.stats import chi2_contingency\n",
    "\n",
    "# bestfeatures = SelectKBest(score_func=chi2, k=10)\n",
    "# fit = bestfeatures.fit(X,y)\n",
    "# dfscores = pd.DataFrame(fit.scores_)\n",
    "# dfcolumns = pd.DataFrame(X.columns)\n",
    "# #concat two dataframes for better visualization \n",
    "# featureScores = pd.concat([dfcolumns,dfscores],axis=1)\n",
    "# featureScores.columns = ['Specs','Score']  #naming the dataframe columns\n",
    "# print(featureScores.nlargest(30,'Score'))  #print 10 best feat\n",
    "\n",
    "# ['response_difference','ip','time','num_bids','bids_per_dev','bids_per_url','bids_per_country','bids_per_ip','url','auction']"
   ]
  },
  {
   "cell_type": "code",
   "execution_count": null,
   "id": "c8c42cee",
   "metadata": {},
   "outputs": [],
   "source": [
    "train_set.isnull().sum()"
   ]
  },
  {
   "cell_type": "code",
   "execution_count": null,
   "id": "58256371",
   "metadata": {},
   "outputs": [],
   "source": [
    "train_set = train_set.fillna(train_set.mean())\n",
    "test_set = test_set.fillna(test_set.mean())"
   ]
  },
  {
   "cell_type": "code",
   "execution_count": null,
   "id": "e4864393",
   "metadata": {},
   "outputs": [],
   "source": [
    "train_set = train_set.interpolate(method=\"cubic\")\n",
    "test_set = test_set.interpolate(method=\"cubic\")"
   ]
  },
  {
   "cell_type": "code",
   "execution_count": null,
   "id": "b363c8ad",
   "metadata": {},
   "outputs": [],
   "source": [
    "train_set"
   ]
  },
  {
   "cell_type": "code",
   "execution_count": null,
   "id": "fcd416b5",
   "metadata": {},
   "outputs": [],
   "source": [
    "test_set"
   ]
  },
  {
   "cell_type": "code",
   "execution_count": null,
   "id": "9e390c94",
   "metadata": {},
   "outputs": [],
   "source": [
    "train_set.isnull().sum()"
   ]
  },
  {
   "cell_type": "code",
   "execution_count": null,
   "id": "8ed7ea79",
   "metadata": {},
   "outputs": [],
   "source": [
    "import plotly.express as px\n",
    "\n",
    "X_corr = X.corr()\n",
    "fig = px.imshow(X_corr, color_continuous_scale='solar')\n",
    "fig.show()"
   ]
  },
  {
   "cell_type": "markdown",
   "id": "fb3dbc36",
   "metadata": {},
   "source": [
    "3.Model Training\n",
    "===\n",
    "***"
   ]
  },
  {
   "cell_type": "markdown",
   "id": "3ae4fed9",
   "metadata": {},
   "source": [
    "## 3a. Selecting the feature columns\n",
    "\n",
    "We select the features we want to use in predicting our outcome"
   ]
  },
  {
   "cell_type": "code",
   "execution_count": null,
   "id": "98bfe029",
   "metadata": {},
   "outputs": [],
   "source": [
    "# feature_cols = train_set.drop(columns = ['merchandise','outcome','bidder_id', 'payment_account', 'address','bid_id','log_bids_per_auc',\n",
    "#  'log_url_per_auc',\n",
    "#  'log_ips_per_auc',\n",
    "#  'log_bids_per_dev',\n",
    "#  'log_bids_per_ip','url_per_auc',\n",
    "#  'log_bids_per_url','bids_per_url',\n",
    "#  'log_num_bids','num_instant_counts','log_bids_per_country',\n",
    "#  'log_difference','response_difference','changed_Os_to_1s','auction',\n",
    "#  'device','log_counts',\n",
    "#  'time',\n",
    "#  'country',\n",
    "#  'ip',\n",
    "#  'url'] )\n",
    "\n",
    "#BEST SCORE\n",
    "# feature_cols = ['auction','device','time','country','ip','url', \n",
    "#                 'url_per_auc', 'bids_per_dev', 'bids_per_country', \n",
    "#                 'bids_per_ip', 'bids_per_url', 'num_bids', \n",
    "#                 'change_ip_freq', 'countries_per_auc',\n",
    "# 'bids_entropy_per_ip',\n",
    "#  'log_bids_entropy_ip',\n",
    "#  'bids_entropy_per_url',\n",
    "#  'log_bids_entropy_url',\n",
    "#  'bids_entropy_country',\n",
    "#  'log_bids_entropy_country']\n",
    "\n",
    "feature_cols = importances_abv_avg\n",
    "\n",
    "# feature_cols =  train_set.drop(columns = ['bid_id','merchandise','outcome','bidder_id', 'payment_account', \n",
    "#  'address','changed_Os_to_1s'\n",
    "# ])\n",
    "\n",
    "\n",
    "# # ['bidder_id', 'payment_account', 'address', 'outcome', 'bid_id',\n",
    "# #        'auction', 'merchandise', 'device', 'time', 'country', 'ip', 'url',\n",
    "# #        'bids_per_auc', 'url_per_auc', 'ips_per_auc', 'bids_per_dev',\n",
    "# #        'bids_per_country', 'bids_per_ip', 'bids_per_url', 'common_merch',\n",
    "# #        'auto parts', 'books and music', 'clothing', 'computers', 'furniture',\n",
    "# #        'jewelry', 'mobile', 'office equipment', 'sporting goods',]\n",
    "\n",
    "# feature_cols =  list(feature_cols.columns)\n",
    "\n",
    "X = train_set[feature_cols]\n",
    "y = train_set['outcome']\n",
    "\n",
    "X_kaggle = test_set[feature_cols] # Answers to this are hidden, so you can't use these 4700 rows for model evaluation!"
   ]
  },
  {
   "cell_type": "code",
   "execution_count": null,
   "id": "514a508e",
   "metadata": {},
   "outputs": [],
   "source": [
    "feature_cols"
   ]
  },
  {
   "cell_type": "code",
   "execution_count": null,
   "id": "f891bb41",
   "metadata": {},
   "outputs": [],
   "source": [
    "X_kaggle"
   ]
  },
  {
   "cell_type": "code",
   "execution_count": null,
   "id": "3ce210dc",
   "metadata": {},
   "outputs": [],
   "source": [
    "rf_model = rf_model.fit(X,y)"
   ]
  },
  {
   "cell_type": "code",
   "execution_count": null,
   "id": "51c27e08",
   "metadata": {},
   "outputs": [],
   "source": [
    "import time\n",
    "import numpy as np\n",
    "\n",
    "start_time = time.time()\n",
    "importances = rf_model.feature_importances_\n",
    "std = np.std([tree.feature_importances_ for tree in rf_model.estimators_], axis=0)\n",
    "elapsed_time = time.time() - start_time\n",
    "\n",
    "print(f\"Elapsed time to compute the importances: {elapsed_time:.3f} seconds\")"
   ]
  },
  {
   "cell_type": "code",
   "execution_count": null,
   "id": "67fb5d42",
   "metadata": {},
   "outputs": [],
   "source": [
    "import pandas as pd\n",
    "import matplotlib.pyplot as plt\n",
    "\n",
    "forest_importances = pd.Series(importances, index=feature_cols)\n",
    "\n",
    "fig, ax = plt.subplots()\n",
    "forest_importances.plot.bar(yerr=std, ax=ax)\n",
    "ax.set_title(\"Feature importances using MDI\")\n",
    "ax.set_ylabel(\"Mean decrease in impurity\")\n",
    "fig.tight_layout()"
   ]
  },
  {
   "cell_type": "code",
   "execution_count": null,
   "id": "2d3ff13b",
   "metadata": {},
   "outputs": [],
   "source": [
    "importances_abv_avg = forest_importances[forest_importances > forest_importances.mean()]"
   ]
  },
  {
   "cell_type": "code",
   "execution_count": null,
   "id": "242a1293",
   "metadata": {},
   "outputs": [],
   "source": [
    "importances_abv_avg = importances_abv_avg.reset_index()"
   ]
  },
  {
   "cell_type": "code",
   "execution_count": null,
   "id": "61e1e9d8",
   "metadata": {},
   "outputs": [],
   "source": [
    "importances_abv_avg = list(importances_abv_avg['index'])"
   ]
  },
  {
   "cell_type": "code",
   "execution_count": null,
   "id": "edc8626e",
   "metadata": {},
   "outputs": [],
   "source": [
    "importances_abv_avg"
   ]
  },
  {
   "cell_type": "markdown",
   "id": "9757e6e2",
   "metadata": {},
   "source": [
    "## 3b. Implementing the Machine Learning Model\n",
    "\n",
    "Here we use the <code>RandomForestClassifier()</code> from Sklearn"
   ]
  },
  {
   "cell_type": "code",
   "execution_count": null,
   "id": "ac81cba2",
   "metadata": {},
   "outputs": [],
   "source": [
    "from sklearn.ensemble import RandomForestClassifier\n",
    "from catboost import CatBoostClassifier\n",
    "from sklearn.ensemble import ExtraTreesClassifier\n",
    "from sklearn.ensemble import AdaBoostClassifier\n",
    "\n",
    "cat_model = CatBoostClassifier(learning_rate= 0.1, random_seed = 5)\n",
    "rf_model = RandomForestClassifier(random_state = 0)\n",
    "clf_model = ExtraTreesClassifier(n_estimators=100, random_state=0)\n",
    "ada_model = AdaBoostClassifier(n_estimators=100, random_state=0)"
   ]
  },
  {
   "cell_type": "markdown",
   "id": "0821b476",
   "metadata": {},
   "source": [
    "## 3c. Train-Test Split\n",
    "\n",
    "We split the data to facilitate the evaluation of the model"
   ]
  },
  {
   "cell_type": "code",
   "execution_count": null,
   "id": "77aabc54",
   "metadata": {},
   "outputs": [],
   "source": [
    "import numpy as np\n",
    "from sklearn.model_selection import StratifiedKFold\n",
    "import statistics\n",
    "from sklearn import metrics\n",
    "\n",
    "\n",
    "skf = StratifiedKFold(n_splits=5, shuffle= True)\n",
    "skf.get_n_splits(X, y)\n",
    "# print(skf)\n",
    "\n",
    "k_fold_Acc = []\n",
    "k_fold_Auc = []\n",
    "\n",
    "for train_index, test_index in skf.split(X, y):\n",
    "#     print(\"TRAIN:\", train_index, \"TEST:\", test_index)\n",
    "    X_train, X_test = X.iloc[train_index], X.iloc[test_index]\n",
    "    y_train, y_test = y.iloc[train_index], y.iloc[test_index]\n",
    "    \n",
    "    \n",
    "    rf_model.fit(X_train, y_train)\n",
    "    y_pred = rf_model.predict(X_test)\n",
    "    \n",
    "    accuracy = metrics.accuracy_score(y_test, y_pred)\n",
    "    auc = metrics.roc_auc_score(y_test, y_pred)\n",
    "    k_fold_Acc.append(accuracy)\n",
    "    k_fold_Auc.append(auc)\n",
    "    \n",
    "    \n",
    "print('Average 10-fold acc:', round(statistics.mean(k_fold_Acc),4))\n",
    "print('Average 10-fold auc:', round(statistics.mean(k_fold_Auc),4))"
   ]
  },
  {
   "cell_type": "markdown",
   "id": "b426cccc",
   "metadata": {},
   "source": [
    "## 3d. Evaluate your model (using only train.csv)\n",
    "\n",
    "We generate a randomforest model by fitting the training data using <code>.fit()</code>, and thereafter generate predictions using <code>.predict()</code>"
   ]
  },
  {
   "cell_type": "markdown",
   "id": "71fa86bd",
   "metadata": {},
   "source": [
    "We evalute the model's accuracy using <code>metrics.accuracy_score()</code>"
   ]
  },
  {
   "cell_type": "code",
   "execution_count": null,
   "id": "362d8f7f",
   "metadata": {
    "scrolled": false
   },
   "outputs": [],
   "source": [
    "# from sklearn import metrics\n",
    "\n",
    "# accuracy = metrics.accuracy_score(y_test, y_pred)\n",
    "# auc = metrics.roc_auc_score(y_test, y_pred)\n",
    "\n",
    "# print('Accuracy:', round(accuracy, 4) * 100, '%')\n",
    "# print('AUC:', round(auc, 4)) \n",
    "\n",
    "# # AUC definitely has room for improvement (It's your turn!)\n",
    "# # But first, let's look at how we can generate the predictions.csv in the next section."
   ]
  },
  {
   "cell_type": "markdown",
   "id": "72d36c32",
   "metadata": {},
   "source": [
    "## 4a. Refit final model on entire train.csv"
   ]
  },
  {
   "cell_type": "code",
   "execution_count": null,
   "id": "f78f5c6f",
   "metadata": {},
   "outputs": [],
   "source": [
    "final_rf_model = RandomForestClassifier(random_state = 0)\n",
    "\n",
    "final_rf_model = final_rf_model.fit(X, y)"
   ]
  },
  {
   "cell_type": "code",
   "execution_count": null,
   "id": "1950c084",
   "metadata": {},
   "outputs": [],
   "source": [
    "final_cat_model = CatBoostClassifier(learning_rate= 0.1, random_seed = 5)\n",
    "final_cat_model.fit(X, y)"
   ]
  },
  {
   "cell_type": "code",
   "execution_count": null,
   "id": "a313792c",
   "metadata": {},
   "outputs": [],
   "source": [
    "ada_model.fit(X, y)\n",
    "ada_pred = ada_model.predict(X_kaggle)"
   ]
  },
  {
   "cell_type": "markdown",
   "id": "2dbf8523",
   "metadata": {},
   "source": [
    "## 4b. Generate predictions on 4700 rows of test.csv features into the model"
   ]
  },
  {
   "cell_type": "code",
   "execution_count": null,
   "id": "180dac9e",
   "metadata": {},
   "outputs": [],
   "source": [
    "X_kaggle.shape  # This is equivalent to your test_set[feature_cols]"
   ]
  },
  {
   "cell_type": "markdown",
   "id": "c4e28654",
   "metadata": {},
   "source": [
    "Here we use <code>.predict_proba</code> instead of <code>.predict()</code> because this is the format which the Kaggle platform requires"
   ]
  },
  {
   "cell_type": "code",
   "execution_count": null,
   "id": "77d92f70",
   "metadata": {},
   "outputs": [],
   "source": [
    "probabilities = final_rf_model.predict_proba(X_kaggle)\n",
    "probabilities"
   ]
  },
  {
   "cell_type": "code",
   "execution_count": null,
   "id": "f5c6becd",
   "metadata": {},
   "outputs": [],
   "source": [
    "final_cat_pred = final_cat_model.predict_proba(X_kaggle)\n",
    "final_cat_pred"
   ]
  },
  {
   "cell_type": "code",
   "execution_count": null,
   "id": "2e2b420a",
   "metadata": {},
   "outputs": [],
   "source": [
    "kaggle_preds = probabilities[:,1]  # Extract values from the rightmost column\n",
    "kaggle_preds"
   ]
  },
  {
   "cell_type": "markdown",
   "id": "6ee5e883",
   "metadata": {},
   "source": [
    "Make use of the <code>.to_csv()</code> function to output your predictions in the form of a csv, which will be the format you will be required to submit to Kaggle."
   ]
  },
  {
   "cell_type": "code",
   "execution_count": null,
   "id": "bc039d9f",
   "metadata": {},
   "outputs": [],
   "source": [
    "output_dataframe = pd.DataFrame({\n",
    "    'bidder_id': test_set['bidder_id'],\n",
    "    'prediction': kaggle_preds\n",
    "})\n",
    "output_dataframe.to_csv('my_predictions.csv', index=False)  \n",
    "\n",
    "# Check for the .csv in the same folder as your Jupyter Notebook\n",
    "# Try uploading this .csv to the Kaggle competition!"
   ]
  },
  {
   "cell_type": "markdown",
   "id": "75c40248",
   "metadata": {},
   "source": [
    "<div class=\"alert alert-block alert-warning\">\n",
    "<b>All the best to every team - may the best model win!</b>\n",
    "</div>"
   ]
  },
  {
   "cell_type": "code",
   "execution_count": null,
   "id": "c80aa915",
   "metadata": {},
   "outputs": [],
   "source": []
  }
 ],
 "metadata": {
  "kernelspec": {
   "display_name": "Python 3",
   "language": "python",
   "name": "python3"
  },
  "language_info": {
   "codemirror_mode": {
    "name": "ipython",
    "version": 3
   },
   "file_extension": ".py",
   "mimetype": "text/x-python",
   "name": "python",
   "nbconvert_exporter": "python",
   "pygments_lexer": "ipython3",
   "version": "3.8.8"
  }
 },
 "nbformat": 4,
 "nbformat_minor": 5
}
